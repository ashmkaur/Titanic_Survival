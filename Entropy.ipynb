{
 "cells": [
  {
   "cell_type": "code",
   "execution_count": 9,
   "metadata": {},
   "outputs": [
    {
     "name": "stdout",
     "output_type": "stream",
     "text": [
      "[0 1]\n",
      "[4 4]\n"
     ]
    },
    {
     "data": {
      "text/plain": [
       "1.5487949406953985"
      ]
     },
     "execution_count": 9,
     "metadata": {},
     "output_type": "execute_result"
    }
   ],
   "source": [
    "import numpy as np\n",
    "Y= np.array([1,0,0,1,0,1,0,1])\n",
    "X= np.array([1,1,4,1,1,1,3,2])\n",
    "\n",
    "values, counts= np.unique(Y,return_counts= True)\n",
    "\n",
    "# print(values)\n",
    "# print(counts)\n",
    "\n",
    "def entropy(var):\n",
    "    N= var.shape[0]  # return total elements present\n",
    "    values, counts= np.unique(var,return_counts= True)\n",
    "\n",
    "    ent=0.0\n",
    "\n",
    "    for i in counts:\n",
    "        p= i/N\n",
    "        ent+= (p*np.log2(p))\n",
    "    return -ent  \n",
    "\n",
    "entropy(X)      \n"
   ]
  },
  {
   "cell_type": "code",
   "execution_count": 58,
   "metadata": {},
   "outputs": [
    {
     "data": {
      "text/plain": [
       "{'sunny': {'data':   Outlook Temperature Humidity  Windy Play\n",
       "  0   sunny         hot     high  False   no\n",
       "  1   sunny         hot     high   True   no\n",
       "  2   sunny        mild     high  False   no\n",
       "  3   sunny        cool   normal  False  yes\n",
       "  4   sunny        mild   normal   True  yes,\n",
       "  'len': 5},\n",
       " 'rainy': {'data':   Outlook Temperature Humidity  Windy Play\n",
       "  0   rainy        mild     high  False  yes\n",
       "  1   rainy        cool   normal  False  yes\n",
       "  2   rainy        cool   normal   True   no\n",
       "  3   rainy        mild   normal  False  yes\n",
       "  4   rainy        mild     high   True   no,\n",
       "  'len': 5},\n",
       " 'overcast': {'data':     Outlook Temperature Humidity  Windy Play\n",
       "  0  overcast         hot     high  False  yes\n",
       "  1  overcast        cool   normal   True  yes\n",
       "  2  overcast        mild     high   True  yes\n",
       "  3  overcast         hot   normal  False  yes,\n",
       "  'len': 4}}"
      ]
     },
     "execution_count": 58,
     "metadata": {},
     "output_type": "execute_result"
    }
   ],
   "source": [
    "# CODE SPLIT\n",
    "import pandas as pd\n",
    "data= pd.read_csv('golf_df.csv')\n",
    "def divide_data(data,feature):\n",
    "    DATA= {}\n",
    "    feat_values= list(data[feature].value_counts().index)\n",
    "    # unique values --> print(feat_values)\n",
    "\n",
    "    occurances= list(data[feature].value_counts())\n",
    "    # unique values numbers --> print(occurances)\n",
    "\n",
    "    for val in feat_values:\n",
    "        DATA[val]= {'data': pd.DataFrame([], columns= data.columns), 'len' : 0}\n",
    "\n",
    "    # print(DATA )   \n",
    "    # prints total rows --> print(data.shape[0])\n",
    "\n",
    "    for ix in range(data.shape[0]):\n",
    "        val= data[feature].iloc[ix]\n",
    "\n",
    "        # print(val) \n",
    "\n",
    "        DATA[val]['data'] = pd.concat([DATA[val]['data'], data.iloc[[ix]]], ignore_index=True)\n",
    "\n",
    "\n",
    "        idx= feat_values.index(val) \n",
    "        # To get index in feat_values --> print(idx)\n",
    "        DATA[val]['len']= occurances[idx]\n",
    "    return DATA  \n",
    "\n",
    "divide_data(data, 'Outlook')  "
   ]
  },
  {
   "cell_type": "code",
   "execution_count": 113,
   "metadata": {},
   "outputs": [
    {
     "name": "stdout",
     "output_type": "stream",
     "text": [
      "Outlook            2\n",
      "Temperature        1\n",
      "Humidity           0\n",
      "Windy          False\n",
      "Play               0\n",
      "Name: 0, dtype: object\n",
      "Outlook           2\n",
      "Temperature       1\n",
      "Humidity          0\n",
      "Windy          True\n",
      "Play              0\n",
      "Name: 1, dtype: object\n",
      "Outlook            0\n",
      "Temperature        1\n",
      "Humidity           0\n",
      "Windy          False\n",
      "Play               1\n",
      "Name: 2, dtype: object\n",
      "Outlook            1\n",
      "Temperature        2\n",
      "Humidity           0\n",
      "Windy          False\n",
      "Play               1\n",
      "Name: 3, dtype: object\n",
      "Outlook            1\n",
      "Temperature        0\n",
      "Humidity           1\n",
      "Windy          False\n",
      "Play               1\n",
      "Name: 4, dtype: object\n",
      "Outlook           1\n",
      "Temperature       0\n",
      "Humidity          1\n",
      "Windy          True\n",
      "Play              0\n",
      "Name: 5, dtype: object\n",
      "Outlook           0\n",
      "Temperature       0\n",
      "Humidity          1\n",
      "Windy          True\n",
      "Play              1\n",
      "Name: 6, dtype: object\n",
      "Outlook            2\n",
      "Temperature        2\n",
      "Humidity           0\n",
      "Windy          False\n",
      "Play               0\n",
      "Name: 7, dtype: object\n",
      "Outlook            2\n",
      "Temperature        0\n",
      "Humidity           1\n",
      "Windy          False\n",
      "Play               1\n",
      "Name: 8, dtype: object\n",
      "Outlook            1\n",
      "Temperature        2\n",
      "Humidity           1\n",
      "Windy          False\n",
      "Play               1\n",
      "Name: 9, dtype: object\n",
      "Outlook           2\n",
      "Temperature       2\n",
      "Humidity          1\n",
      "Windy          True\n",
      "Play              1\n",
      "Name: 10, dtype: object\n",
      "Outlook           0\n",
      "Temperature       2\n",
      "Humidity          0\n",
      "Windy          True\n",
      "Play              1\n",
      "Name: 11, dtype: object\n",
      "Outlook            0\n",
      "Temperature        1\n",
      "Humidity           1\n",
      "Windy          False\n",
      "Play               1\n",
      "Name: 12, dtype: object\n",
      "Outlook           1\n",
      "Temperature       2\n",
      "Humidity          0\n",
      "Windy          True\n",
      "Play              0\n",
      "Name: 13, dtype: object\n"
     ]
    }
   ],
   "source": [
    "for i in range(14):\n",
    "   print(data.iloc[i])"
   ]
  },
  {
   "cell_type": "code",
   "execution_count": 103,
   "metadata": {},
   "outputs": [
    {
     "data": {
      "text/plain": [
       "Outlook\n",
       "2    5\n",
       "1    5\n",
       "0    4\n",
       "Name: count, dtype: int64"
      ]
     },
     "execution_count": 103,
     "metadata": {},
     "output_type": "execute_result"
    }
   ],
   "source": [
    "data['Outlook'].value_counts()"
   ]
  },
  {
   "cell_type": "code",
   "execution_count": 59,
   "metadata": {},
   "outputs": [],
   "source": [
    "def info_gain(data, feature):\n",
    "    examples= data.shape[0]\n",
    "\n",
    "    DATA= divide_data(data,feature)\n",
    "    keys= DATA.keys()\n",
    "\n",
    "    ent_of_children= 0.0\n",
    "\n",
    "    for key in keys:\n",
    "        ent_of_children += ((DATA[key]['len']/examples) * entropy(DATA[key]['data']['Play']))\n",
    "\n",
    "    info_gain= entropy(data['Play'])-ent_of_children\n",
    "    return info_gain    \n"
   ]
  },
  {
   "cell_type": "code",
   "execution_count": 60,
   "metadata": {},
   "outputs": [
    {
     "data": {
      "text/plain": [
       "0.24674981977443933"
      ]
     },
     "execution_count": 60,
     "metadata": {},
     "output_type": "execute_result"
    }
   ],
   "source": [
    "info_gain(data, 'Outlook')"
   ]
  },
  {
   "cell_type": "code",
   "execution_count": 45,
   "metadata": {},
   "outputs": [
    {
     "data": {
      "text/plain": [
       "-0.9182958340544896"
      ]
     },
     "execution_count": 45,
     "metadata": {},
     "output_type": "execute_result"
    }
   ],
   "source": [
    "import math\n",
    "\n",
    "2/3 * math.log2(2/3) + 1/3 * math.log2(1/3)"
   ]
  },
  {
   "cell_type": "code",
   "execution_count": 46,
   "metadata": {},
   "outputs": [
    {
     "data": {
      "text/plain": [
       "-0.3480000000000001"
      ]
     },
     "execution_count": 46,
     "metadata": {},
     "output_type": "execute_result"
    }
   ],
   "source": [
    "0.97-(2/5)-0.918"
   ]
  },
  {
   "cell_type": "code",
   "execution_count": 65,
   "metadata": {},
   "outputs": [
    {
     "name": "stdout",
     "output_type": "stream",
     "text": [
      "Making tree with -  Outlook\n",
      "\tMaking tree with -  Humidity\n",
      "\tMaking tree with -  Windy\n"
     ]
    }
   ],
   "source": [
    "# Building a Decision Tree\n",
    "import numpy as np\n",
    "import pandas as pd\n",
    "\n",
    "class DecisionTree:\n",
    "\n",
    "    def __init__(self, depth=0, max_depth=5):\n",
    "\n",
    "        self.children= {}\n",
    "        self.key= None\n",
    "        self.max_depth= max_depth\n",
    "        self.depth= depth\n",
    "        self.target= None\n",
    "        #Prediction at any node\n",
    "\n",
    "    def train(self, data):\n",
    "        features= ['Outlook', 'Temperature', 'Humidity', 'Windy'] \n",
    "\n",
    "        info_gains= []\n",
    "\n",
    "        for f in features:\n",
    "            i_gain= info_gain(data, f)\n",
    "            info_gains.append(i_gain) \n",
    "\n",
    "        self.key= features[np.argmax(info_gains)]\n",
    "        #index of max value\n",
    "\n",
    "        #Split the data\n",
    "\n",
    "        Data_dict= divide_data(data, self.key)\n",
    "        labels= list(data['Play'].value_counts().index)\n",
    "        freq= list(data['Play'].value_counts().values)\n",
    "\n",
    "        self.target= labels[np.argmax(freq)]\n",
    "\n",
    "        ### Stoping conditions ###\n",
    "        have_data= 0\n",
    "        keys= Data_dict.keys()\n",
    "        # If it is pure node\n",
    "        for key in keys:\n",
    "            if Data_dict[key]['len']>0:\n",
    "                have_data+=1\n",
    "        if have_data<2:\n",
    "            return          \n",
    "\n",
    "        # If max limit reached\n",
    "\n",
    "        if self.depth>= self.max_depth:\n",
    "            return \n",
    "        \n",
    "        # Recursively call\n",
    "\n",
    "        print(\"\\t\"*self.depth + \"Making tree with - \", self.key)\n",
    "        \n",
    "        for key in keys:\n",
    "            new_data= Data_dict[key]['data']\n",
    "            self.children[key]= DecisionTree(depth=self.depth+1)\n",
    "            self.children[key].train(new_data)\n",
    "\n",
    "        return  \n",
    "\n",
    "    def predict(self, test):\n",
    "      if self.children=={}:\n",
    "        return self.target\n",
    "      return self.children[test[self.key][0]].predict(test) \n",
    "\n",
    "\n",
    "# Exploring Model\n",
    "model= DecisionTree()\n",
    "model.train(data)\n",
    "        "
   ]
  },
  {
   "cell_type": "code",
   "execution_count": 67,
   "metadata": {},
   "outputs": [
    {
     "name": "stdout",
     "output_type": "stream",
     "text": [
      "  Outlook Temperature Humidity  Windy\n",
      "0   sunny         hot     high  False\n"
     ]
    },
    {
     "data": {
      "text/plain": [
       "'no'"
      ]
     },
     "execution_count": 67,
     "metadata": {},
     "output_type": "execute_result"
    }
   ],
   "source": [
    "x_test= pd.DataFrame([['sunny','hot','high', False]], columns=list(data.columns.values[:-1]))\n",
    "print(x_test)\n",
    "\n",
    "model.predict(x_test)"
   ]
  },
  {
   "cell_type": "code",
   "execution_count": 97,
   "metadata": {},
   "outputs": [
    {
     "name": "stdout",
     "output_type": "stream",
     "text": [
      "Prediction: yes\n"
     ]
    }
   ],
   "source": [
    "import pandas as pd\n",
    "from sklearn.model_selection import train_test_split\n",
    "from sklearn.tree import DecisionTreeClassifier\n",
    "from sklearn.preprocessing import LabelEncoder\n",
    "import warnings\n",
    "\n",
    "# Load the golf dataset\n",
    "data = pd.read_csv('golf_df.csv')\n",
    "\n",
    "# Encode categorical variables\n",
    "label_encoders = {}\n",
    "for column in data.columns:\n",
    "    if data[column].dtype == 'object':\n",
    "        le = LabelEncoder()\n",
    "        data[column] = le.fit_transform(data[column])\n",
    "        label_encoders[column] = le  # Store the label encoder for future use\n",
    "\n",
    "# Separate features and target variable\n",
    "X = data.drop('Play', axis=1)\n",
    "y = data['Play']\n",
    "\n",
    "# Split the dataset into training and testing sets\n",
    "X_train, X_test, y_train, y_test = train_test_split(X, y, test_size=0.2, random_state=42)\n",
    "\n",
    "# Initialize and train the Decision Tree Classifier\n",
    "model = DecisionTreeClassifier()\n",
    "model.fit(X_train, y_train)\n",
    "\n",
    "# Prepare test data (ensure it matches the trained feature set)\n",
    "test_data = pd.DataFrame([[1, 1, 0, 0]], columns=X.columns) \n",
    "y_pred= model.predict(test_data)\n",
    "\n",
    "# Decode the prediction to 'yes' or 'no'\n",
    "prediction_result = 'yes' if y_pred[0] == 1 else 'no'\n",
    "print(f\"Prediction: {prediction_result}\")\n"
   ]
  }
 ],
 "metadata": {
  "kernelspec": {
   "display_name": "Python 3",
   "language": "python",
   "name": "python3"
  },
  "language_info": {
   "codemirror_mode": {
    "name": "ipython",
    "version": 3
   },
   "file_extension": ".py",
   "mimetype": "text/x-python",
   "name": "python",
   "nbconvert_exporter": "python",
   "pygments_lexer": "ipython3",
   "version": "3.12.2"
  }
 },
 "nbformat": 4,
 "nbformat_minor": 2
}
